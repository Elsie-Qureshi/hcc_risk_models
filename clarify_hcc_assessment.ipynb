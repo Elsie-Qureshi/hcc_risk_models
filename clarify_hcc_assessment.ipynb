{
 "cells": [
  {
   "cell_type": "code",
   "execution_count": 1,
   "metadata": {},
   "outputs": [],
   "source": [
    "import json\n",
    "import requests\n",
    "import os\n",
    "import psycopg2\n",
    "from datetime import date as d\n",
    "import argparse\n",
    "import csv\n",
    "import itertools as it\n",
    "from collections import OrderedDict\n",
    "import pandas as pd\n",
    "#import pandas_redshift\n",
    "import sys\n",
    "import yaml\n",
    "import pandas.io.sql as sqlio"
   ]
  },
  {
   "cell_type": "code",
   "execution_count": 2,
   "metadata": {},
   "outputs": [],
   "source": [
    "# local directory info -- !! Change these to your filepaths\n",
    "data_science_repo_dir = '/Users/elsie/data-science-repo/'\n",
    "creds_file='/Users/elsie/creds.yml'\n",
    "# table info where long for diagnoses are\n",
    "redshift_schema = 'data_science'\n",
    "long_form_dx_table = 'bcop_dx_episode'\n",
    "# redshift info for where to deposit processed data\n",
    "redshift_table_name = 'data_science.elsie_episode_hcc_risk'\n",
    "s3_bucket = 'clarify-datasource-bucket'\n",
    "redshift_fpath = 'reference_data/df_redshift'\n",
    "## default patient characteristics to use. WE can fix this to use real ones if we want to use actual HCC score\n",
    "# default_patient_characteristics = {\n",
    "#     'sex_cd' : 1,\n",
    "#     'date_of_birth' : '1944-06-06',\n",
    "#     'mcaid_cd' : 0\n",
    "# }"
   ]
  },
  {
   "cell_type": "code",
   "execution_count": 3,
   "metadata": {},
   "outputs": [
    {
     "data": {
      "text/plain": [
       "(15, 6)"
      ]
     },
     "execution_count": 3,
     "metadata": {},
     "output_type": "execute_result"
    }
   ],
   "source": [
    "sys.path.append(data_science_repo_dir)\n",
    "\n",
    "conn_string = os.environ.get(\"DW_DEV_CONN\")\n",
    "conn = psycopg2.connect(conn_string)\n",
    "cur = conn.cursor()\n",
    "cur.execute(\"SET search_path TO data_science\")\n",
    "sql = \"\"\" SELECT DISTINCT episode_id, diagnosis_code, icd_version, '1' as sex_cd, \n",
    "'1944-06-06' as date_of_birth,  '0' as mcaid_cd FROM data_science.{}\n",
    "WHERE episode_id IN ('09791223')\"\"\".format(long_form_dx_table)\n",
    "\n",
    "episode_dx = sqlio.read_sql_query(sql, conn)\n",
    "episode_dx.shape"
   ]
  },
  {
   "cell_type": "code",
   "execution_count": 4,
   "metadata": {},
   "outputs": [
    {
     "data": {
      "text/html": [
       "<div>\n",
       "<style scoped>\n",
       "    .dataframe tbody tr th:only-of-type {\n",
       "        vertical-align: middle;\n",
       "    }\n",
       "\n",
       "    .dataframe tbody tr th {\n",
       "        vertical-align: top;\n",
       "    }\n",
       "\n",
       "    .dataframe thead th {\n",
       "        text-align: right;\n",
       "    }\n",
       "</style>\n",
       "<table border=\"1\" class=\"dataframe\">\n",
       "  <thead>\n",
       "    <tr style=\"text-align: right;\">\n",
       "      <th></th>\n",
       "      <th>episode_id</th>\n",
       "      <th>diagnosis_code</th>\n",
       "      <th>icd_version</th>\n",
       "      <th>sex_cd</th>\n",
       "      <th>date_of_birth</th>\n",
       "      <th>mcaid_cd</th>\n",
       "    </tr>\n",
       "  </thead>\n",
       "  <tbody>\n",
       "    <tr>\n",
       "      <th>0</th>\n",
       "      <td>09791223</td>\n",
       "      <td>I2510</td>\n",
       "      <td>0</td>\n",
       "      <td>1</td>\n",
       "      <td>1944-06-06</td>\n",
       "      <td>0</td>\n",
       "    </tr>\n",
       "    <tr>\n",
       "      <th>1</th>\n",
       "      <td>09791223</td>\n",
       "      <td>Z87891</td>\n",
       "      <td>0</td>\n",
       "      <td>1</td>\n",
       "      <td>1944-06-06</td>\n",
       "      <td>0</td>\n",
       "    </tr>\n",
       "    <tr>\n",
       "      <th>2</th>\n",
       "      <td>09791223</td>\n",
       "      <td>Z952</td>\n",
       "      <td>0</td>\n",
       "      <td>1</td>\n",
       "      <td>1944-06-06</td>\n",
       "      <td>0</td>\n",
       "    </tr>\n",
       "    <tr>\n",
       "      <th>3</th>\n",
       "      <td>09791223</td>\n",
       "      <td>F419</td>\n",
       "      <td>0</td>\n",
       "      <td>1</td>\n",
       "      <td>1944-06-06</td>\n",
       "      <td>0</td>\n",
       "    </tr>\n",
       "    <tr>\n",
       "      <th>4</th>\n",
       "      <td>09791223</td>\n",
       "      <td>T161XXA</td>\n",
       "      <td>0</td>\n",
       "      <td>1</td>\n",
       "      <td>1944-06-06</td>\n",
       "      <td>0</td>\n",
       "    </tr>\n",
       "    <tr>\n",
       "      <th>5</th>\n",
       "      <td>09791223</td>\n",
       "      <td>E785</td>\n",
       "      <td>0</td>\n",
       "      <td>1</td>\n",
       "      <td>1944-06-06</td>\n",
       "      <td>0</td>\n",
       "    </tr>\n",
       "    <tr>\n",
       "      <th>6</th>\n",
       "      <td>09791223</td>\n",
       "      <td>Z974</td>\n",
       "      <td>0</td>\n",
       "      <td>1</td>\n",
       "      <td>1944-06-06</td>\n",
       "      <td>0</td>\n",
       "    </tr>\n",
       "    <tr>\n",
       "      <th>7</th>\n",
       "      <td>09791223</td>\n",
       "      <td>C50919</td>\n",
       "      <td>0</td>\n",
       "      <td>1</td>\n",
       "      <td>1944-06-06</td>\n",
       "      <td>0</td>\n",
       "    </tr>\n",
       "    <tr>\n",
       "      <th>8</th>\n",
       "      <td>09791223</td>\n",
       "      <td>J029</td>\n",
       "      <td>0</td>\n",
       "      <td>1</td>\n",
       "      <td>1944-06-06</td>\n",
       "      <td>0</td>\n",
       "    </tr>\n",
       "    <tr>\n",
       "      <th>9</th>\n",
       "      <td>09791223</td>\n",
       "      <td>M1711</td>\n",
       "      <td>0</td>\n",
       "      <td>1</td>\n",
       "      <td>1944-06-06</td>\n",
       "      <td>0</td>\n",
       "    </tr>\n",
       "    <tr>\n",
       "      <th>10</th>\n",
       "      <td>09791223</td>\n",
       "      <td>Z01818</td>\n",
       "      <td>0</td>\n",
       "      <td>1</td>\n",
       "      <td>1944-06-06</td>\n",
       "      <td>0</td>\n",
       "    </tr>\n",
       "    <tr>\n",
       "      <th>11</th>\n",
       "      <td>09791223</td>\n",
       "      <td>I10</td>\n",
       "      <td>0</td>\n",
       "      <td>1</td>\n",
       "      <td>1944-06-06</td>\n",
       "      <td>0</td>\n",
       "    </tr>\n",
       "    <tr>\n",
       "      <th>12</th>\n",
       "      <td>09791223</td>\n",
       "      <td>M25561</td>\n",
       "      <td>0</td>\n",
       "      <td>1</td>\n",
       "      <td>1944-06-06</td>\n",
       "      <td>0</td>\n",
       "    </tr>\n",
       "    <tr>\n",
       "      <th>13</th>\n",
       "      <td>09791223</td>\n",
       "      <td>G8918</td>\n",
       "      <td>0</td>\n",
       "      <td>1</td>\n",
       "      <td>1944-06-06</td>\n",
       "      <td>0</td>\n",
       "    </tr>\n",
       "    <tr>\n",
       "      <th>14</th>\n",
       "      <td>09791223</td>\n",
       "      <td>Z01810</td>\n",
       "      <td>0</td>\n",
       "      <td>1</td>\n",
       "      <td>1944-06-06</td>\n",
       "      <td>0</td>\n",
       "    </tr>\n",
       "  </tbody>\n",
       "</table>\n",
       "</div>"
      ],
      "text/plain": [
       "   episode_id diagnosis_code icd_version sex_cd date_of_birth mcaid_cd\n",
       "0    09791223          I2510           0      1    1944-06-06        0\n",
       "1    09791223         Z87891           0      1    1944-06-06        0\n",
       "2    09791223           Z952           0      1    1944-06-06        0\n",
       "3    09791223           F419           0      1    1944-06-06        0\n",
       "4    09791223        T161XXA           0      1    1944-06-06        0\n",
       "5    09791223           E785           0      1    1944-06-06        0\n",
       "6    09791223           Z974           0      1    1944-06-06        0\n",
       "7    09791223         C50919           0      1    1944-06-06        0\n",
       "8    09791223           J029           0      1    1944-06-06        0\n",
       "9    09791223          M1711           0      1    1944-06-06        0\n",
       "10   09791223         Z01818           0      1    1944-06-06        0\n",
       "11   09791223            I10           0      1    1944-06-06        0\n",
       "12   09791223         M25561           0      1    1944-06-06        0\n",
       "13   09791223          G8918           0      1    1944-06-06        0\n",
       "14   09791223         Z01810           0      1    1944-06-06        0"
      ]
     },
     "execution_count": 4,
     "metadata": {},
     "output_type": "execute_result"
    }
   ],
   "source": [
    "episode_dx.sort_values(by='episode_id')"
   ]
  },
  {
   "cell_type": "code",
   "execution_count": 5,
   "metadata": {},
   "outputs": [],
   "source": [
    "episode_dx.sort_values(by=['episode_id'], inplace=True)\n",
    "grouped = episode_dx.groupby('episode_id')\n",
    "episode_group = [g for k, g in grouped]"
   ]
  },
  {
   "cell_type": "code",
   "execution_count": 6,
   "metadata": {},
   "outputs": [
    {
     "data": {
      "text/plain": [
       "episode_id\n",
       "09791223    15\n",
       "Name: diagnosis_code, dtype: int64"
      ]
     },
     "execution_count": 6,
     "metadata": {},
     "output_type": "execute_result"
    }
   ],
   "source": [
    "episode_dx.groupby('episode_id')['diagnosis_code'].size()"
   ]
  },
  {
   "cell_type": "code",
   "execution_count": 7,
   "metadata": {},
   "outputs": [
    {
     "name": "stdout",
     "output_type": "stream",
     "text": [
      "09791223\n",
      "0       I2510\n",
      "1      Z87891\n",
      "2        Z952\n",
      "3        F419\n",
      "4     T161XXA\n",
      "5        E785\n",
      "6        Z974\n",
      "7      C50919\n",
      "8        J029\n",
      "9       M1711\n",
      "10     Z01818\n",
      "11        I10\n",
      "12     M25561\n",
      "13      G8918\n",
      "14     Z01810\n",
      "Name: diagnosis_code, dtype: object\n"
     ]
    }
   ],
   "source": [
    "for k, g in episode_dx.groupby('episode_id')['diagnosis_code']:\n",
    "    print (k)\n",
    "    print (g)"
   ]
  },
  {
   "cell_type": "markdown",
   "metadata": {},
   "source": [
    "### Send request to hcc web app"
   ]
  },
  {
   "cell_type": "code",
   "execution_count": 8,
   "metadata": {},
   "outputs": [],
   "source": [
    "hcc_response = []\n",
    "last_episode_id = \"\"\n",
    "person_ind = 0\n",
    "max_entries_in_query = 100"
   ]
  },
  {
   "cell_type": "code",
   "execution_count": 9,
   "metadata": {},
   "outputs": [
    {
     "name": "stdout",
     "output_type": "stream",
     "text": [
      "Preparing query for group 1 of 1\n",
      "params {'IDVAR': 'EPISODE_ID', 'KEEPVAR': '', 'SEDITS': '1', 'DATE_ASOF': '2019-03-17', 'DF': '1', 'persons': {'person': [{'EPISODE_ID': '09791223', 'SEX': '1', 'DOB': '1944-06-06', 'MCAID': '0', 'NEMCAID': '0', 'OREC': '0', 'DIAGS': {'DIAG': [{'DIAG': 'I2510', 'DIAG_TYPE': '0'}]}}]}}\n",
      "params {'IDVAR': 'EPISODE_ID', 'KEEPVAR': '', 'SEDITS': '1', 'DATE_ASOF': '2019-03-17', 'DF': '1', 'persons': {'person': [{'EPISODE_ID': '09791223', 'SEX': '1', 'DOB': '1944-06-06', 'MCAID': '0', 'NEMCAID': '0', 'OREC': '0', 'DIAGS': {'DIAG': [{'DIAG': 'I2510', 'DIAG_TYPE': '0'}, {'DIAG': 'Z87891', 'DIAG_TYPE': '0'}]}}]}}\n",
      "params {'IDVAR': 'EPISODE_ID', 'KEEPVAR': '', 'SEDITS': '1', 'DATE_ASOF': '2019-03-17', 'DF': '1', 'persons': {'person': [{'EPISODE_ID': '09791223', 'SEX': '1', 'DOB': '1944-06-06', 'MCAID': '0', 'NEMCAID': '0', 'OREC': '0', 'DIAGS': {'DIAG': [{'DIAG': 'I2510', 'DIAG_TYPE': '0'}, {'DIAG': 'Z87891', 'DIAG_TYPE': '0'}, {'DIAG': 'Z952', 'DIAG_TYPE': '0'}]}}]}}\n",
      "params {'IDVAR': 'EPISODE_ID', 'KEEPVAR': '', 'SEDITS': '1', 'DATE_ASOF': '2019-03-17', 'DF': '1', 'persons': {'person': [{'EPISODE_ID': '09791223', 'SEX': '1', 'DOB': '1944-06-06', 'MCAID': '0', 'NEMCAID': '0', 'OREC': '0', 'DIAGS': {'DIAG': [{'DIAG': 'I2510', 'DIAG_TYPE': '0'}, {'DIAG': 'Z87891', 'DIAG_TYPE': '0'}, {'DIAG': 'Z952', 'DIAG_TYPE': '0'}, {'DIAG': 'F419', 'DIAG_TYPE': '0'}]}}]}}\n",
      "params {'IDVAR': 'EPISODE_ID', 'KEEPVAR': '', 'SEDITS': '1', 'DATE_ASOF': '2019-03-17', 'DF': '1', 'persons': {'person': [{'EPISODE_ID': '09791223', 'SEX': '1', 'DOB': '1944-06-06', 'MCAID': '0', 'NEMCAID': '0', 'OREC': '0', 'DIAGS': {'DIAG': [{'DIAG': 'I2510', 'DIAG_TYPE': '0'}, {'DIAG': 'Z87891', 'DIAG_TYPE': '0'}, {'DIAG': 'Z952', 'DIAG_TYPE': '0'}, {'DIAG': 'F419', 'DIAG_TYPE': '0'}, {'DIAG': 'T161XXA', 'DIAG_TYPE': '0'}]}}]}}\n",
      "params {'IDVAR': 'EPISODE_ID', 'KEEPVAR': '', 'SEDITS': '1', 'DATE_ASOF': '2019-03-17', 'DF': '1', 'persons': {'person': [{'EPISODE_ID': '09791223', 'SEX': '1', 'DOB': '1944-06-06', 'MCAID': '0', 'NEMCAID': '0', 'OREC': '0', 'DIAGS': {'DIAG': [{'DIAG': 'I2510', 'DIAG_TYPE': '0'}, {'DIAG': 'Z87891', 'DIAG_TYPE': '0'}, {'DIAG': 'Z952', 'DIAG_TYPE': '0'}, {'DIAG': 'F419', 'DIAG_TYPE': '0'}, {'DIAG': 'T161XXA', 'DIAG_TYPE': '0'}, {'DIAG': 'E785', 'DIAG_TYPE': '0'}]}}]}}\n",
      "params {'IDVAR': 'EPISODE_ID', 'KEEPVAR': '', 'SEDITS': '1', 'DATE_ASOF': '2019-03-17', 'DF': '1', 'persons': {'person': [{'EPISODE_ID': '09791223', 'SEX': '1', 'DOB': '1944-06-06', 'MCAID': '0', 'NEMCAID': '0', 'OREC': '0', 'DIAGS': {'DIAG': [{'DIAG': 'I2510', 'DIAG_TYPE': '0'}, {'DIAG': 'Z87891', 'DIAG_TYPE': '0'}, {'DIAG': 'Z952', 'DIAG_TYPE': '0'}, {'DIAG': 'F419', 'DIAG_TYPE': '0'}, {'DIAG': 'T161XXA', 'DIAG_TYPE': '0'}, {'DIAG': 'E785', 'DIAG_TYPE': '0'}, {'DIAG': 'Z974', 'DIAG_TYPE': '0'}]}}]}}\n",
      "params {'IDVAR': 'EPISODE_ID', 'KEEPVAR': '', 'SEDITS': '1', 'DATE_ASOF': '2019-03-17', 'DF': '1', 'persons': {'person': [{'EPISODE_ID': '09791223', 'SEX': '1', 'DOB': '1944-06-06', 'MCAID': '0', 'NEMCAID': '0', 'OREC': '0', 'DIAGS': {'DIAG': [{'DIAG': 'I2510', 'DIAG_TYPE': '0'}, {'DIAG': 'Z87891', 'DIAG_TYPE': '0'}, {'DIAG': 'Z952', 'DIAG_TYPE': '0'}, {'DIAG': 'F419', 'DIAG_TYPE': '0'}, {'DIAG': 'T161XXA', 'DIAG_TYPE': '0'}, {'DIAG': 'E785', 'DIAG_TYPE': '0'}, {'DIAG': 'Z974', 'DIAG_TYPE': '0'}, {'DIAG': 'C50919', 'DIAG_TYPE': '0'}]}}]}}\n",
      "params {'IDVAR': 'EPISODE_ID', 'KEEPVAR': '', 'SEDITS': '1', 'DATE_ASOF': '2019-03-17', 'DF': '1', 'persons': {'person': [{'EPISODE_ID': '09791223', 'SEX': '1', 'DOB': '1944-06-06', 'MCAID': '0', 'NEMCAID': '0', 'OREC': '0', 'DIAGS': {'DIAG': [{'DIAG': 'I2510', 'DIAG_TYPE': '0'}, {'DIAG': 'Z87891', 'DIAG_TYPE': '0'}, {'DIAG': 'Z952', 'DIAG_TYPE': '0'}, {'DIAG': 'F419', 'DIAG_TYPE': '0'}, {'DIAG': 'T161XXA', 'DIAG_TYPE': '0'}, {'DIAG': 'E785', 'DIAG_TYPE': '0'}, {'DIAG': 'Z974', 'DIAG_TYPE': '0'}, {'DIAG': 'C50919', 'DIAG_TYPE': '0'}, {'DIAG': 'J029', 'DIAG_TYPE': '0'}]}}]}}\n",
      "params {'IDVAR': 'EPISODE_ID', 'KEEPVAR': '', 'SEDITS': '1', 'DATE_ASOF': '2019-03-17', 'DF': '1', 'persons': {'person': [{'EPISODE_ID': '09791223', 'SEX': '1', 'DOB': '1944-06-06', 'MCAID': '0', 'NEMCAID': '0', 'OREC': '0', 'DIAGS': {'DIAG': [{'DIAG': 'I2510', 'DIAG_TYPE': '0'}, {'DIAG': 'Z87891', 'DIAG_TYPE': '0'}, {'DIAG': 'Z952', 'DIAG_TYPE': '0'}, {'DIAG': 'F419', 'DIAG_TYPE': '0'}, {'DIAG': 'T161XXA', 'DIAG_TYPE': '0'}, {'DIAG': 'E785', 'DIAG_TYPE': '0'}, {'DIAG': 'Z974', 'DIAG_TYPE': '0'}, {'DIAG': 'C50919', 'DIAG_TYPE': '0'}, {'DIAG': 'J029', 'DIAG_TYPE': '0'}, {'DIAG': 'M1711', 'DIAG_TYPE': '0'}]}}]}}\n",
      "params {'IDVAR': 'EPISODE_ID', 'KEEPVAR': '', 'SEDITS': '1', 'DATE_ASOF': '2019-03-17', 'DF': '1', 'persons': {'person': [{'EPISODE_ID': '09791223', 'SEX': '1', 'DOB': '1944-06-06', 'MCAID': '0', 'NEMCAID': '0', 'OREC': '0', 'DIAGS': {'DIAG': [{'DIAG': 'I2510', 'DIAG_TYPE': '0'}, {'DIAG': 'Z87891', 'DIAG_TYPE': '0'}, {'DIAG': 'Z952', 'DIAG_TYPE': '0'}, {'DIAG': 'F419', 'DIAG_TYPE': '0'}, {'DIAG': 'T161XXA', 'DIAG_TYPE': '0'}, {'DIAG': 'E785', 'DIAG_TYPE': '0'}, {'DIAG': 'Z974', 'DIAG_TYPE': '0'}, {'DIAG': 'C50919', 'DIAG_TYPE': '0'}, {'DIAG': 'J029', 'DIAG_TYPE': '0'}, {'DIAG': 'M1711', 'DIAG_TYPE': '0'}, {'DIAG': 'Z01818', 'DIAG_TYPE': '0'}]}}]}}\n",
      "params {'IDVAR': 'EPISODE_ID', 'KEEPVAR': '', 'SEDITS': '1', 'DATE_ASOF': '2019-03-17', 'DF': '1', 'persons': {'person': [{'EPISODE_ID': '09791223', 'SEX': '1', 'DOB': '1944-06-06', 'MCAID': '0', 'NEMCAID': '0', 'OREC': '0', 'DIAGS': {'DIAG': [{'DIAG': 'I2510', 'DIAG_TYPE': '0'}, {'DIAG': 'Z87891', 'DIAG_TYPE': '0'}, {'DIAG': 'Z952', 'DIAG_TYPE': '0'}, {'DIAG': 'F419', 'DIAG_TYPE': '0'}, {'DIAG': 'T161XXA', 'DIAG_TYPE': '0'}, {'DIAG': 'E785', 'DIAG_TYPE': '0'}, {'DIAG': 'Z974', 'DIAG_TYPE': '0'}, {'DIAG': 'C50919', 'DIAG_TYPE': '0'}, {'DIAG': 'J029', 'DIAG_TYPE': '0'}, {'DIAG': 'M1711', 'DIAG_TYPE': '0'}, {'DIAG': 'Z01818', 'DIAG_TYPE': '0'}, {'DIAG': 'I10', 'DIAG_TYPE': '0'}]}}]}}\n",
      "params {'IDVAR': 'EPISODE_ID', 'KEEPVAR': '', 'SEDITS': '1', 'DATE_ASOF': '2019-03-17', 'DF': '1', 'persons': {'person': [{'EPISODE_ID': '09791223', 'SEX': '1', 'DOB': '1944-06-06', 'MCAID': '0', 'NEMCAID': '0', 'OREC': '0', 'DIAGS': {'DIAG': [{'DIAG': 'I2510', 'DIAG_TYPE': '0'}, {'DIAG': 'Z87891', 'DIAG_TYPE': '0'}, {'DIAG': 'Z952', 'DIAG_TYPE': '0'}, {'DIAG': 'F419', 'DIAG_TYPE': '0'}, {'DIAG': 'T161XXA', 'DIAG_TYPE': '0'}, {'DIAG': 'E785', 'DIAG_TYPE': '0'}, {'DIAG': 'Z974', 'DIAG_TYPE': '0'}, {'DIAG': 'C50919', 'DIAG_TYPE': '0'}, {'DIAG': 'J029', 'DIAG_TYPE': '0'}, {'DIAG': 'M1711', 'DIAG_TYPE': '0'}, {'DIAG': 'Z01818', 'DIAG_TYPE': '0'}, {'DIAG': 'I10', 'DIAG_TYPE': '0'}, {'DIAG': 'M25561', 'DIAG_TYPE': '0'}]}}]}}\n",
      "params {'IDVAR': 'EPISODE_ID', 'KEEPVAR': '', 'SEDITS': '1', 'DATE_ASOF': '2019-03-17', 'DF': '1', 'persons': {'person': [{'EPISODE_ID': '09791223', 'SEX': '1', 'DOB': '1944-06-06', 'MCAID': '0', 'NEMCAID': '0', 'OREC': '0', 'DIAGS': {'DIAG': [{'DIAG': 'I2510', 'DIAG_TYPE': '0'}, {'DIAG': 'Z87891', 'DIAG_TYPE': '0'}, {'DIAG': 'Z952', 'DIAG_TYPE': '0'}, {'DIAG': 'F419', 'DIAG_TYPE': '0'}, {'DIAG': 'T161XXA', 'DIAG_TYPE': '0'}, {'DIAG': 'E785', 'DIAG_TYPE': '0'}, {'DIAG': 'Z974', 'DIAG_TYPE': '0'}, {'DIAG': 'C50919', 'DIAG_TYPE': '0'}, {'DIAG': 'J029', 'DIAG_TYPE': '0'}, {'DIAG': 'M1711', 'DIAG_TYPE': '0'}, {'DIAG': 'Z01818', 'DIAG_TYPE': '0'}, {'DIAG': 'I10', 'DIAG_TYPE': '0'}, {'DIAG': 'M25561', 'DIAG_TYPE': '0'}, {'DIAG': 'G8918', 'DIAG_TYPE': '0'}]}}]}}\n",
      "params {'IDVAR': 'EPISODE_ID', 'KEEPVAR': '', 'SEDITS': '1', 'DATE_ASOF': '2019-03-17', 'DF': '1', 'persons': {'person': [{'EPISODE_ID': '09791223', 'SEX': '1', 'DOB': '1944-06-06', 'MCAID': '0', 'NEMCAID': '0', 'OREC': '0', 'DIAGS': {'DIAG': [{'DIAG': 'I2510', 'DIAG_TYPE': '0'}, {'DIAG': 'Z87891', 'DIAG_TYPE': '0'}, {'DIAG': 'Z952', 'DIAG_TYPE': '0'}, {'DIAG': 'F419', 'DIAG_TYPE': '0'}, {'DIAG': 'T161XXA', 'DIAG_TYPE': '0'}, {'DIAG': 'E785', 'DIAG_TYPE': '0'}, {'DIAG': 'Z974', 'DIAG_TYPE': '0'}, {'DIAG': 'C50919', 'DIAG_TYPE': '0'}, {'DIAG': 'J029', 'DIAG_TYPE': '0'}, {'DIAG': 'M1711', 'DIAG_TYPE': '0'}, {'DIAG': 'Z01818', 'DIAG_TYPE': '0'}, {'DIAG': 'I10', 'DIAG_TYPE': '0'}, {'DIAG': 'M25561', 'DIAG_TYPE': '0'}, {'DIAG': 'G8918', 'DIAG_TYPE': '0'}, {'DIAG': 'Z01810', 'DIAG_TYPE': '0'}]}}]}}\n"
     ]
    }
   ],
   "source": [
    "for i in range(0,len(episode_group)):\n",
    "    print(\"Preparing query for group %s of %s\" % (\n",
    "        i + 1, len(episode_group)))\n",
    "\n",
    "    if person_ind == 0:\n",
    "        params = {\n",
    "            \"IDVAR\": \"EPISODE_ID\",\n",
    "            \"KEEPVAR\": \"\",\n",
    "            \"SEDITS\": \"1\",\n",
    "            \"DATE_ASOF\": d.today().isoformat(),\n",
    "            \"DF\": \"1\"\n",
    "        }\n",
    "        params['persons'] = {}\n",
    "        params['persons']['person'] = []\n",
    "\n",
    "    this_query_result = episode_group[i]\n",
    "    person = params['persons']['person']\n",
    "    \n",
    "    # Run through each person in the DB response to get info\n",
    "    for ind, row in this_query_result.iterrows():\n",
    "        if this_query_result.loc[ind]['episode_id'] != last_episode_id:\n",
    "            last_episode_id = this_query_result.loc[ind]['episode_id']\n",
    "            person.append({})\n",
    "            this_person = person[person_ind]\n",
    "            person_ind = person_ind + 1\n",
    "            this_person['EPISODE_ID'] = this_query_result.loc[ind]['episode_id']\n",
    "            this_person.update({\n",
    "                    \"SEX\": str(this_query_result.loc[ind]['sex_cd']),\n",
    "                    \"DOB\": this_query_result.loc[ind]['date_of_birth'],\n",
    "                    \"MCAID\": str(this_query_result.loc[ind]['mcaid_cd']),\n",
    "                    \"NEMCAID\": \"0\", # Assume not a NEW medicaid patient\n",
    "                    \"OREC\": \"0\", # Assume entitlement due to old age, not disab\n",
    "                    \"DIAGS\": {\"DIAG\":[]}\n",
    "                })     \n",
    "            diags_to_update = this_person['DIAGS']['DIAG']           \n",
    "        diag_code = this_query_result.loc[ind]['diagnosis_code']\n",
    "        if this_query_result.loc[ind]['icd_version'] == '9':\n",
    "            diags_to_update.append({\"DIAG\":diag_code, \"DIAG_TYPE\":\"9\"})\n",
    "        else:\n",
    "            diags_to_update.append({\"DIAG\":diag_code, \"DIAG_TYPE\":\"0\"})\n",
    "            \n",
    "            \n",
    "        ##################################################\n",
    "        ## Submit our requests iteratively\n",
    "        ##################################################\n",
    "        \n",
    "        if (person_ind < max_entries_in_query and i != len(episode_group) - 1) :\n",
    "            continue\n",
    "        \n",
    "        #print(\"Submitting query for group %s of %s\" % (i + 1, len(episode_group)))\n",
    "\n",
    "        # Prepare headers\n",
    "        url = \"https://clarify-hcc-risk.herokuapp.com/api/V22/79/L1\"\n",
    "\n",
    "        headers = {\n",
    "            'content-type': \"application/json\",\n",
    "            'cache-control': \"no-cache\",\n",
    "            'postman-token': \"66655898-f05c-ac3a-7281-4597e777c744\"\n",
    "            }\n",
    "\n",
    "        print (\"params {}\".format(params))\n",
    "        # Submit request\n",
    "        hcc_response.append(requests.post(url\n",
    "                        , headers=headers\n",
    "                        , data=json.dumps(params)))\n",
    "        #print (hcc_response)\n",
    "        person_ind = 0\n"
   ]
  },
  {
   "cell_type": "code",
   "execution_count": 10,
   "metadata": {},
   "outputs": [
    {
     "name": "stderr",
     "output_type": "stream",
     "text": [
      "/Users/elsie/miniconda3/envs/hcc/lib/python3.6/site-packages/ipykernel_launcher.py:15: SettingWithCopyWarning: \n",
      "A value is trying to be set on a copy of a slice from a DataFrame.\n",
      "Try using .loc[row_indexer,col_indexer] = value instead\n",
      "\n",
      "See the caveats in the documentation: http://pandas.pydata.org/pandas-docs/stable/indexing.html#indexing-view-versus-copy\n",
      "  from ipykernel import kernelapp as app\n"
     ]
    }
   ],
   "source": [
    "######################################################\n",
    "## collect response in cleaned up dataframe\n",
    "######################################################\n",
    "\n",
    "final_df = pd.concat([\n",
    "    pd.DataFrame(json.loads(response.text)) for response in hcc_response\n",
    "])\n",
    "final_df.columns = map(lambda x: x.lower(), final_df.columns)\n",
    "hcc_cols = list(filter(lambda x: x.startswith('hcc'), final_df.columns))\n",
    "hcc_cols = sorted(hcc_cols, key=lambda x: int(x.split('hcc')[1]))\n",
    "all_cols = ['episode_id'] + hcc_cols\n",
    "subset_df = final_df[all_cols]\n",
    "# how to do this without warning??\n",
    "for col in hcc_cols:\n",
    "    subset_df[col] = subset_df[col].astype(int)\n",
    "\n",
    "######################################################\n",
    "## write results back to redshift \n",
    "######################################################\n",
    "\n",
    "# connect.connect_s3_redshift(\n",
    "#     redshift_schema,\n",
    "#     subset_df,\n",
    "#     creds_file,\n",
    "#     s3_bucket,\n",
    "#     redshift_fpath)\n",
    "\n",
    "# pandas_redshift.pandas_to_redshift(\n",
    "#     data_frame = subset_df, \n",
    "#     redshift_table_name = redshift_table_name\n",
    "#     )"
   ]
  },
  {
   "cell_type": "code",
   "execution_count": 11,
   "metadata": {},
   "outputs": [
    {
     "name": "stdout",
     "output_type": "stream",
     "text": [
      "09791223\n"
     ]
    }
   ],
   "source": [
    "for e, g in subset_df.groupby('episode_id'):\n",
    "    print (e)\n",
    "    for c in g.columns:\n",
    "        if (c != 'episode_id') & (int(g[c].sum()) > 0):\n",
    "            print (\" \" + c)"
   ]
  },
  {
   "cell_type": "code",
   "execution_count": null,
   "metadata": {},
   "outputs": [],
   "source": []
  }
 ],
 "metadata": {
  "kernelspec": {
   "display_name": "Python 3",
   "language": "python",
   "name": "python3"
  },
  "language_info": {
   "codemirror_mode": {
    "name": "ipython",
    "version": 3
   },
   "file_extension": ".py",
   "mimetype": "text/x-python",
   "name": "python",
   "nbconvert_exporter": "python",
   "pygments_lexer": "ipython3",
   "version": "3.6.8"
  }
 },
 "nbformat": 4,
 "nbformat_minor": 2
}
