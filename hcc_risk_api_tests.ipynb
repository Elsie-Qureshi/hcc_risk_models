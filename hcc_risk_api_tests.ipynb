{
 "cells": [
  {
   "cell_type": "code",
   "execution_count": 18,
   "metadata": {},
   "outputs": [],
   "source": [
    "import json\n",
    "import requests\n",
    "import pandas as pd\n",
    "\n",
    "base_url = 'http://127.0.0.1:5000/hcc_risk_models/api/v1.0/models'"
   ]
  },
  {
   "cell_type": "code",
   "execution_count": 2,
   "metadata": {},
   "outputs": [
    {
     "name": "stdout",
     "output_type": "stream",
     "text": [
      "url:  http://127.0.0.1:5000/hcc_risk_models/api/v1.0/models\n",
      "result_models:  {\n",
      "  \"V2216_79_O2\": \"CMS-HCC 2017 Initial Model, 79 HCC Variables\",\n",
      "  \"V2217_79_O1\": \"CMS-HCC 2017 Midyear Final Model, 79 HCC Variables\"\n",
      "}\n",
      "\n"
     ]
    }
   ],
   "source": [
    "url = base_url\n",
    "print('url: ', url)\n",
    "result_models = requests.get(url)\n",
    "print('result_models: ', json.dumps(result_models.json(), indent=2))\n",
    "print()"
   ]
  },
  {
   "cell_type": "code",
   "execution_count": 7,
   "metadata": {},
   "outputs": [
    {
     "name": "stdout",
     "output_type": "stream",
     "text": [
      "url:  http://127.0.0.1:5000/hcc_risk_models/api/v1.0/models/V2217_79_O1\n",
      "result_model (keys):  dict_keys(['hcc_descriptions', 'icd_to_hcc_mappings', 'model_coefficients', 'model_description', 'model_name', 'model_segments'])\n"
     ]
    }
   ],
   "source": [
    "model = 'V2217_79_O1'\n",
    "url = '{}/{}'.format(base_url, model)\n",
    "print('url: ', url)\n",
    "result_model = requests.get(url)\n",
    "print('result_model (keys): ', result_model.json().keys())\n"
   ]
  },
  {
   "cell_type": "code",
   "execution_count": 59,
   "metadata": {},
   "outputs": [
    {
     "name": "stdout",
     "output_type": "stream",
     "text": [
      "url:  http://127.0.0.1:5000/hcc_risk_models/api/v1.0/models/V2217_79_O1/evaluate\n"
     ]
    }
   ],
   "source": [
    "patients = [\n",
    "    {\n",
    "        \"pt_id\": 1001,\n",
    "        \"sex\": 1,\n",
    "        \"dob\": \"1930-8-21\",\n",
    "        \"ltimcaid\": 1,\n",
    "        \"nemcaid\": 0,\n",
    "        \"orec\": 2,\n",
    "        \"diagnoses\": [\n",
    "            {\n",
    "                \"diag_code\": \"A420\",\n",
    "                \"diag_type\": 0\n",
    "            },\n",
    "            {\n",
    "                \"diag_code\": \"A4150\",\n",
    "                \"diag_type\": 0\n",
    "            }\n",
    "        ]\n",
    "    },\n",
    "    {\n",
    "        \"pt_id\": 1002,\n",
    "        \"sex\": 2,\n",
    "        \"dob\": \"1927-7-12\",\n",
    "        \"ltimcaid\": 0,\n",
    "        \"nemcaid\": 0,\n",
    "        \"orec\": 1,\n",
    "        \"diagnoses\": [\n",
    "            {\n",
    "                \"diag_code\": \"G030\",\n",
    "                \"diag_type\": 0\n",
    "            },\n",
    "            {\n",
    "                \"diag_code\": \"C7410\",\n",
    "                \"diag_type\": 0\n",
    "            }\n",
    "        ]\n",
    "    }\n",
    "]\n",
    "url = '{}/{}/evaluate'.format(base_url, model)\n",
    "print('url: ', url)\n"
   ]
  },
  {
   "cell_type": "code",
   "execution_count": 60,
   "metadata": {},
   "outputs": [],
   "source": [
    "response = requests.post(url, json=patients)\n",
    "json_data = json.loads(response.text)['patients']"
   ]
  },
  {
   "cell_type": "code",
   "execution_count": 61,
   "metadata": {},
   "outputs": [
    {
     "data": {
      "text/html": [
       "<div>\n",
       "<style scoped>\n",
       "    .dataframe tbody tr th:only-of-type {\n",
       "        vertical-align: middle;\n",
       "    }\n",
       "\n",
       "    .dataframe tbody tr th {\n",
       "        vertical-align: top;\n",
       "    }\n",
       "\n",
       "    .dataframe thead th {\n",
       "        text-align: right;\n",
       "    }\n",
       "</style>\n",
       "<table border=\"1\" class=\"dataframe\">\n",
       "  <thead>\n",
       "    <tr style=\"text-align: right;\">\n",
       "      <th></th>\n",
       "      <th>demographic_data</th>\n",
       "      <th>diagnoses_to_hccs</th>\n",
       "      <th>pt_id</th>\n",
       "      <th>risk_profiles</th>\n",
       "    </tr>\n",
       "  </thead>\n",
       "  <tbody>\n",
       "    <tr>\n",
       "      <th>0</th>\n",
       "      <td>{'age': 88, 'dob': '1930-08-21', 'ltimcaid': 1...</td>\n",
       "      <td>[{'assign_type': 'primary', 'cc': 115, 'cc_des...</td>\n",
       "      <td>1001</td>\n",
       "      <td>{'CFA': {'demographic_coefficients': {'M85_89'...</td>\n",
       "    </tr>\n",
       "    <tr>\n",
       "      <th>1</th>\n",
       "      <td>{'age': 91, 'dob': '1927-07-12', 'ltimcaid': 0...</td>\n",
       "      <td>[{'assign_type': 'primary', 'cc': 10, 'cc_desc...</td>\n",
       "      <td>1002</td>\n",
       "      <td>{'CFA': {'demographic_coefficients': {'F90_94'...</td>\n",
       "    </tr>\n",
       "  </tbody>\n",
       "</table>\n",
       "</div>"
      ],
      "text/plain": [
       "                                    demographic_data  \\\n",
       "0  {'age': 88, 'dob': '1930-08-21', 'ltimcaid': 1...   \n",
       "1  {'age': 91, 'dob': '1927-07-12', 'ltimcaid': 0...   \n",
       "\n",
       "                                   diagnoses_to_hccs  pt_id  \\\n",
       "0  [{'assign_type': 'primary', 'cc': 115, 'cc_des...   1001   \n",
       "1  [{'assign_type': 'primary', 'cc': 10, 'cc_desc...   1002   \n",
       "\n",
       "                                       risk_profiles  \n",
       "0  {'CFA': {'demographic_coefficients': {'M85_89'...  \n",
       "1  {'CFA': {'demographic_coefficients': {'F90_94'...  "
      ]
     },
     "execution_count": 61,
     "metadata": {},
     "output_type": "execute_result"
    }
   ],
   "source": [
    "hcc_results = pd.DataFrame.from_dict(json_data)\n",
    "hcc_results"
   ]
  },
  {
   "cell_type": "code",
   "execution_count": 62,
   "metadata": {},
   "outputs": [
    {
     "data": {
      "text/plain": [
       "[{'assign_type': 'primary',\n",
       "  'cc': 115,\n",
       "  'cc_description': 'Pneumococcal Pneumonia, Empyema, Lung Abscess',\n",
       "  'diag_code': 'A420',\n",
       "  'diag_description': 'Pulmonary actinomycosis',\n",
       "  'diag_type': 0,\n",
       "  'hcc': 115},\n",
       " {'assign_type': 'primary',\n",
       "  'cc': 2,\n",
       "  'cc_description': 'Septicemia, Sepsis, Systemic Inflammatory Response Syndrome/Shock',\n",
       "  'diag_code': 'A4150',\n",
       "  'diag_description': 'Gram-negative sepsis, unspecified',\n",
       "  'diag_type': 0,\n",
       "  'hcc': 2}]"
      ]
     },
     "execution_count": 62,
     "metadata": {},
     "output_type": "execute_result"
    }
   ],
   "source": [
    "hcc_results.loc[0]['diagnoses_to_hccs']"
   ]
  },
  {
   "cell_type": "code",
   "execution_count": null,
   "metadata": {},
   "outputs": [],
   "source": []
  }
 ],
 "metadata": {
  "kernelspec": {
   "display_name": "Python 3",
   "language": "python",
   "name": "python3"
  },
  "language_info": {
   "codemirror_mode": {
    "name": "ipython",
    "version": 3
   },
   "file_extension": ".py",
   "mimetype": "text/x-python",
   "name": "python",
   "nbconvert_exporter": "python",
   "pygments_lexer": "ipython3",
   "version": "3.6.8"
  }
 },
 "nbformat": 4,
 "nbformat_minor": 2
}
